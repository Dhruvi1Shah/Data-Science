{
  "nbformat": 4,
  "nbformat_minor": 0,
  "metadata": {
    "colab": {
      "provenance": []
    },
    "kernelspec": {
      "name": "python3",
      "display_name": "Python 3"
    },
    "language_info": {
      "name": "python"
    }
  },
  "cells": [
    {
      "cell_type": "markdown",
      "source": [
        "###Q : 1\n",
        "\n",
        "1. In the below elements which of them are values or an expression? eg:- values can be integer or string and expressions will be mathematical operators.\n",
        "\n",
        " - * \n",
        " - 'hello'\n",
        " - -87.8\n",
        " - - \n",
        " - / \n",
        " - ++\t\n",
        " - 6 \n",
        "\n"
      ],
      "metadata": {
        "id": "oPwDS0FqYLHW"
      }
    },
    {
      "cell_type": "markdown",
      "source": [
        "###Ans:\n",
        "\n",
        "1. Values : hello, -87.8, 6\n",
        "2. Expresions : *, -, +, /"
      ],
      "metadata": {
        "id": "LW6_i9lRY9b4"
      }
    },
    {
      "cell_type": "markdown",
      "source": [
        "###Q : 2\n",
        "\n",
        "2. What is the difference between string and variable?"
      ],
      "metadata": {
        "id": "r11_MmmcZPvJ"
      }
    },
    {
      "cell_type": "markdown",
      "source": [
        "###Ans:\n",
        "\n",
        "The Variables are kind o holder which holds the data. we can store any type of data like integer, string, float etc. in the variable. The variables can be any thing like character, number etc.. and the string is collection of chracter, word or alphabets.It is like a data, Which we can store into the variable. Strings are always in the single quote or double quote."
      ],
      "metadata": {
        "id": "h6vlnNYjZWkB"
      }
    },
    {
      "cell_type": "markdown",
      "source": [],
      "metadata": {
        "id": "DMf6Vx3EbkEw"
      }
    },
    {
      "cell_type": "markdown",
      "source": [
        "### Q : 3\n",
        "\n",
        "3. Describe three different data types."
      ],
      "metadata": {
        "id": "vI4b0XChbkgt"
      }
    },
    {
      "cell_type": "markdown",
      "source": [
        "###Ans:\n",
        "\n",
        "1. Numeric: This data types contains numeric values. Numeric value can be integer, float or complex number.\n",
        "  - Integer : It contains whole number like 3, 10, -4 etc.\n",
        "  -            It does not contain the number with decimal point.\n",
        "  - Float : It contains real numbers with decimal point like 2.3,3.14 etc.\n",
        "  - Complex : It contains real number and imaginary number.\n",
        "  - E.g.: a = 5\n",
        "      b = 20.23\n",
        "      c = 2 + 9j\n",
        "2. Boolean: This data type contains two values which is True or False.\n",
        "  - E.g.: a = True\n",
        "      print(type(a))\n",
        "\n",
        "3. List: It like an arrays and ordered collection of data.\n",
        "  - E.g.: List = [\"Good\",\"Morning\"]"
      ],
      "metadata": {
        "id": "0yaFHucYczNA"
      }
    },
    {
      "cell_type": "markdown",
      "source": [
        "##Q : 4\n",
        "4. What is an expression made up of? What do all expressions do?\n",
        "\n",
        "##Ans:\n",
        "\n",
        "A combination of operators and operands is called expression.The expression in python produces some values or results after being interpreted by the python iterpreter."
      ],
      "metadata": {
        "id": "D-CryM8uD9k4"
      }
    },
    {
      "cell_type": "markdown",
      "source": [
        "##Q : 5\n",
        "\n",
        "5. This assignment statements, like spam = 10. What is the difference between an expression and a statement?\n",
        "\n",
        "##Ans:\n",
        "\n",
        "The expression contains two or three operands and two operands. After evalution the expression gives some result, While statement does not give any result. \n",
        "Here, the spam = 10 doesn't give any result.\n",
        "\n"
      ],
      "metadata": {
        "id": "UjLxfSE6FiHw"
      }
    },
    {
      "cell_type": "markdown",
      "source": [
        "##Q : 6\n",
        "\n",
        "6. After running the following code, what does the variable bacon contain?\n",
        "- bacon = 22\n",
        "- bacon + 1\n",
        "\n",
        "##Ans:\n",
        "\n",
        "\n"
      ],
      "metadata": {
        "id": "y7bg51UwIcCj"
      }
    },
    {
      "cell_type": "code",
      "source": [
        "bacon = 22\n",
        "\n",
        "bacon + 1"
      ],
      "metadata": {
        "colab": {
          "base_uri": "https://localhost:8080/"
        },
        "id": "MFWGEI0TD8yq",
        "outputId": "29d00056-12a1-4f53-9c3f-64728097123a"
      },
      "execution_count": 3,
      "outputs": [
        {
          "output_type": "execute_result",
          "data": {
            "text/plain": [
              "23"
            ]
          },
          "metadata": {},
          "execution_count": 3
        }
      ]
    },
    {
      "cell_type": "markdown",
      "source": [
        "##Q : 7\n",
        "\n",
        "7. What should the values of the following two terms be?\n",
        " - 'spam' + 'spamspam'\n",
        " - 'spam' * 3\n",
        "\n",
        "##Ans:\n",
        "\n",
        "spamspamspam"
      ],
      "metadata": {
        "id": "imKOFvoNI_ah"
      }
    },
    {
      "cell_type": "markdown",
      "source": [
        "##Q : 8\n",
        "\n",
        "  8. Why is eggs a valid variable name while 100 is invalid?\n",
        "\n",
        "##Ans:\n",
        "\n",
        "According to variable definition rules, the varible can not start with number.\n"
      ],
      "metadata": {
        "id": "f2TKW5npJjUb"
      }
    },
    {
      "cell_type": "markdown",
      "source": [
        "##Q : 9\n",
        "\n",
        "9. What three functions can be used to get the integer, floating-point number, or string version of a value?\n",
        "\n",
        "##Ans: \n",
        "\n",
        "- For Integer : int()\n",
        "- For Float : float()\n",
        "- For String : str()\n",
        "\n"
      ],
      "metadata": {
        "id": "dOUEOod6KM0y"
      }
    },
    {
      "cell_type": "markdown",
      "source": [
        "##Q : 10\n",
        "\n",
        "10. Why does this expression cause an error? How can you fix it?\n",
        "- 'I have eaten ' + 99 + ' burritos.'\n",
        "\n",
        "##Ans:\n",
        "\n",
        "Here, in the sentense two words are string and one is integer. so we can not concatenate string to integer. For resolving this we need to convert integer in to string.\n",
        "\n"
      ],
      "metadata": {
        "id": "Qw6iNAhlKnOB"
      }
    },
    {
      "cell_type": "code",
      "source": [
        "'I have eaten ' + 99 + ' burritos.'"
      ],
      "metadata": {
        "colab": {
          "base_uri": "https://localhost:8080/",
          "height": 166
        },
        "id": "ceGP-vwzI-ya",
        "outputId": "cc8b6ec5-3004-4114-b86e-b78ec14099e1"
      },
      "execution_count": 7,
      "outputs": [
        {
          "output_type": "error",
          "ename": "TypeError",
          "evalue": "ignored",
          "traceback": [
            "\u001b[0;31m---------------------------------------------------------------------------\u001b[0m",
            "\u001b[0;31mTypeError\u001b[0m                                 Traceback (most recent call last)",
            "\u001b[0;32m<ipython-input-7-d24137131a5c>\u001b[0m in \u001b[0;36m<module>\u001b[0;34m\u001b[0m\n\u001b[0;32m----> 1\u001b[0;31m \u001b[0;34m'I have eaten '\u001b[0m \u001b[0;34m+\u001b[0m \u001b[0;36m99\u001b[0m \u001b[0;34m+\u001b[0m \u001b[0;34m' burritos.'\u001b[0m\u001b[0;34m\u001b[0m\u001b[0;34m\u001b[0m\u001b[0m\n\u001b[0m",
            "\u001b[0;31mTypeError\u001b[0m: can only concatenate str (not \"int\") to str"
          ]
        }
      ]
    },
    {
      "cell_type": "code",
      "source": [
        "'I have eaten ' + '99' + ' burritos.'"
      ],
      "metadata": {
        "colab": {
          "base_uri": "https://localhost:8080/",
          "height": 35
        },
        "id": "M97Y5iO_K1Aj",
        "outputId": "6f20c399-c687-4e21-f642-1cafd7b76fad"
      },
      "execution_count": 8,
      "outputs": [
        {
          "output_type": "execute_result",
          "data": {
            "text/plain": [
              "'I have eaten 99 burritos.'"
            ],
            "application/vnd.google.colaboratory.intrinsic+json": {
              "type": "string"
            }
          },
          "metadata": {},
          "execution_count": 8
        }
      ]
    },
    {
      "cell_type": "code",
      "source": [
        "'I have eaten ' + str(99) + ' burritos.'"
      ],
      "metadata": {
        "colab": {
          "base_uri": "https://localhost:8080/",
          "height": 35
        },
        "id": "MtG4qKRRK-mc",
        "outputId": "5cc3e420-dfb4-4fde-82f4-bd0d6c26f958"
      },
      "execution_count": 9,
      "outputs": [
        {
          "output_type": "execute_result",
          "data": {
            "text/plain": [
              "'I have eaten 99 burritos.'"
            ],
            "application/vnd.google.colaboratory.intrinsic+json": {
              "type": "string"
            }
          },
          "metadata": {},
          "execution_count": 9
        }
      ]
    },
    {
      "cell_type": "code",
      "source": [],
      "metadata": {
        "id": "fxS4jZwlL83j"
      },
      "execution_count": null,
      "outputs": []
    }
  ]
}